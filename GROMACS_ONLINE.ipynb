{
  "cells": [
    {
      "cell_type": "markdown",
      "metadata": {
        "id": "view-in-github",
        "colab_type": "text"
      },
      "source": [
        "<a href=\"https://colab.research.google.com/github/biaoqingbao/gromacs_gpu/blob/main/GROMACS_ONLINE.ipynb\" target=\"_parent\"><img src=\"https://colab.research.google.com/assets/colab-badge.svg\" alt=\"Open In Colab\"/></a>"
      ]
    },
    {
      "cell_type": "code",
      "source": [
        "#@title **step 00 GROMACS-2022.4 and save**"
      ],
      "metadata": {
        "id": "lImGba5TXqPy"
      },
      "execution_count": null,
      "outputs": []
    },
    {
      "cell_type": "code",
      "execution_count": null,
      "metadata": {
        "colab": {
          "base_uri": "https://localhost:8080/"
        },
        "id": "U2bHrA-L2gpS",
        "outputId": "b8a516f8-d43f-4046-bb3a-6480543b42a2"
      },
      "outputs": [
        {
          "name": "stdout",
          "output_type": "stream",
          "text": [
            "Drive already mounted at /content/drive; to attempt to forcibly remount, call drive.mount(\"/content/drive\", force_remount=True).\n"
          ]
        }
      ],
      "source": [
        "# By SMBU NINA\n",
        "# GROMACS-2022.4 VERSION\n",
        "# prompt: drive loading\n",
        "\n",
        "from google.colab import drive\n",
        "drive.mount('/content/drive')\n"
      ]
    },
    {
      "cell_type": "code",
      "execution_count": null,
      "metadata": {
        "id": "bOdJiU6H14p_"
      },
      "outputs": [],
      "source": [
        "import os\n",
        "# 更改当前工作目录到/content/content/gromacs-2022.4/build/\n",
        "os.chdir('/content/')"
      ]
    },
    {
      "cell_type": "code",
      "execution_count": null,
      "metadata": {
        "id": "IVqivS5e2XzP"
      },
      "outputs": [],
      "source": [
        "!sudo apt-get update\n",
        "!sudo apt-get install gcc\n",
        "!sudo apt-get install g++\n",
        "!sudo apt-get install cmake\n",
        "!sudo apt-get update\n"
      ]
    },
    {
      "cell_type": "code",
      "execution_count": null,
      "metadata": {
        "id": "cMJEmsFs26qX"
      },
      "outputs": [],
      "source": [
        "!wget https://ftp.gromacs.org/gromacs/gromacs-2022.4.tar.gz"
      ]
    },
    {
      "cell_type": "code",
      "execution_count": null,
      "metadata": {
        "id": "nASti5Xm2_lX"
      },
      "outputs": [],
      "source": [
        "!tar -zxvf gromacs-2022.4.tar.gz\n"
      ]
    },
    {
      "cell_type": "code",
      "execution_count": null,
      "metadata": {
        "id": "LwbHLhC13EK5"
      },
      "outputs": [],
      "source": [
        "#建一个build文件"
      ]
    },
    {
      "cell_type": "code",
      "execution_count": null,
      "metadata": {
        "id": "CD8-DqbK3MYP"
      },
      "outputs": [],
      "source": [
        "!echo 'export PATH=/usr/local/cuda-12.2/bin:$PATH' >> ~/.bashrc\n",
        "!echo 'export LD_LIBRARY_PATH=/usr/local/cuda-12.2/lib64:$LD_LIBRARY_PATH' >> ~/.bashrc\n",
        "!source ~/.bashrc"
      ]
    },
    {
      "cell_type": "code",
      "execution_count": null,
      "metadata": {
        "id": "nBrPCXYk3QB3"
      },
      "outputs": [],
      "source": [
        "import os\n",
        "# 更改当前工作目录到/content/content/gromacs-2022.4/build/\n",
        "os.chdir('/content/gromacs-2022.4/build/')"
      ]
    },
    {
      "cell_type": "code",
      "execution_count": null,
      "metadata": {
        "id": "qsgtxLGj3Zat"
      },
      "outputs": [],
      "source": [
        "!ls"
      ]
    },
    {
      "cell_type": "code",
      "execution_count": null,
      "metadata": {
        "id": "1JdmpFFW3akK"
      },
      "outputs": [],
      "source": [
        "!cmake .. -DGMX_BUILD_OWN_FFTW=ON -DREGRESSIONTEST_DOWNLOAD=ON -DGMX_GPU=CUDA -DCUDA_TOOLKIT_ROOT_DIR=/usr/local/cuda-12.2"
      ]
    },
    {
      "cell_type": "code",
      "execution_count": null,
      "metadata": {
        "id": "EBrAm1_u3hM0"
      },
      "outputs": [],
      "source": [
        "!make -j4"
      ]
    },
    {
      "cell_type": "code",
      "execution_count": null,
      "metadata": {
        "id": "JyMMh69o3kFu"
      },
      "outputs": [],
      "source": [
        "!sudo make install"
      ]
    },
    {
      "cell_type": "code",
      "execution_count": null,
      "metadata": {
        "colab": {
          "base_uri": "https://localhost:8080/"
        },
        "id": "cKpl4ZvMIz_Z",
        "outputId": "0d4cbe18-3510-43af-c2ef-fc145e5902dd"
      },
      "outputs": [
        {
          "name": "stdout",
          "output_type": "stream",
          "text": [
            "                         :-) GROMACS - gmx, 2022.4 (-:\n",
            "\n",
            "Executable:   /usr/local/gromacs/bin/gmx\n",
            "Data prefix:  /usr/local/gromacs\n",
            "Working dir:  /content/gromacs-2022.4/build\n",
            "Command line:\n",
            "  gmx -version\n",
            "\n",
            "GROMACS version:    2022.4\n",
            "Precision:          mixed\n",
            "Memory model:       64 bit\n",
            "MPI library:        thread_mpi\n",
            "OpenMP support:     enabled (GMX_OPENMP_MAX_THREADS = 128)\n",
            "GPU support:        CUDA\n",
            "SIMD instructions:  AVX2_256\n",
            "CPU FFT library:    fftw-3.3.8-sse2-avx-avx2-avx2_128\n",
            "GPU FFT library:    cuFFT\n",
            "RDTSCP usage:       enabled\n",
            "TNG support:        enabled\n",
            "Hwloc support:      disabled\n",
            "Tracing support:    disabled\n",
            "C compiler:         /usr/bin/cc GNU 11.4.0\n",
            "C compiler flags:   -mavx2 -mfma -Wno-missing-field-initializers -fexcess-precision=fast -funroll-all-loops -O3 -DNDEBUG\n",
            "C++ compiler:       /usr/bin/c++ GNU 11.4.0\n",
            "C++ compiler flags: -mavx2 -mfma -Wno-missing-field-initializers -fexcess-precision=fast -funroll-all-loops SHELL:-fopenmp -O3 -DNDEBUG\n",
            "CUDA compiler:      /usr/local/cuda-12.2/bin/nvcc nvcc: NVIDIA (R) Cuda compiler driver;Copyright (c) 2005-2023 NVIDIA Corporation;Built on Tue_Aug_15_22:02:13_PDT_2023;Cuda compilation tools, release 12.2, V12.2.140;Build cuda_12.2.r12.2/compiler.33191640_0\n",
            "CUDA compiler flags:-std=c++17;--generate-code=arch=compute_50,code=sm_50;--generate-code=arch=compute_52,code=sm_52;--generate-code=arch=compute_60,code=sm_60;--generate-code=arch=compute_61,code=sm_61;--generate-code=arch=compute_70,code=sm_70;--generate-code=arch=compute_75,code=sm_75;--generate-code=arch=compute_80,code=sm_80;--generate-code=arch=compute_86,code=sm_86;--generate-code=arch=compute_89,code=sm_89;--generate-code=arch=compute_90,code=sm_90;-Wno-deprecated-gpu-targets;--generate-code=arch=compute_53,code=sm_53;--generate-code=arch=compute_80,code=sm_80;-use_fast_math;-D_FORCE_INLINES;-mavx2 -mfma -Wno-missing-field-initializers -fexcess-precision=fast -funroll-all-loops SHELL:-fopenmp -O3 -DNDEBUG\n",
            "CUDA driver:        12.20\n",
            "CUDA runtime:       12.20\n",
            "\n"
          ]
        }
      ],
      "source": [
        "!/usr/local/gromacs/bin/gmx -version"
      ]
    },
    {
      "cell_type": "code",
      "source": [
        "#save for the next coming usage\n",
        "!tar -cvf /usr/local/gromacs/ /content/gromacs-gpu-local.tar"
      ],
      "metadata": {
        "id": "tROAkr1zVEmE"
      },
      "execution_count": null,
      "outputs": []
    },
    {
      "cell_type": "code",
      "execution_count": null,
      "metadata": {
        "colab": {
          "background_save": true
        },
        "id": "mRFx3RRQJsol",
        "outputId": "90cc397a-afdc-4c14-c039-0be7c22f8314"
      },
      "outputs": [
        {
          "name": "stdout",
          "output_type": "stream",
          "text": [
            "cp: cannot create regular file '/content/drive/MyDrive/gromacs-2022.4/': Not a directory\n"
          ]
        }
      ],
      "source": [
        "!cp -r /content/local-gromacs-gpu.tar /conten/drive/MyDrive/gromacs-gpu/"
      ]
    },
    {
      "cell_type": "code",
      "source": [
        "!cp -r /usr/local/gromacs/ /conten/drive/MyDrive/gromacs-gpu-local/"
      ],
      "metadata": {
        "id": "QjnCFIDbU3s1"
      },
      "execution_count": null,
      "outputs": []
    },
    {
      "cell_type": "code",
      "source": [
        "#@title **step 01 load installed gromacs**\n"
      ],
      "metadata": {
        "id": "peqWc650Wc9f"
      },
      "execution_count": null,
      "outputs": []
    },
    {
      "cell_type": "code",
      "source": [
        "#upload the saved local file\n",
        "#or wget from google driver\n",
        "from google.colab import drive\n",
        "drive.mount('/content/drive')\n"
      ],
      "metadata": {
        "colab": {
          "base_uri": "https://localhost:8080/"
        },
        "id": "ry4SS9-SWc_-",
        "outputId": "80cd8a69-5e68-4761-a26f-92c58c21eb90"
      },
      "execution_count": 1,
      "outputs": [
        {
          "output_type": "stream",
          "name": "stdout",
          "text": [
            "Mounted at /content/drive\n"
          ]
        }
      ]
    },
    {
      "cell_type": "code",
      "source": [
        "!cp -r /content/drive/MyDrive/GROMACS-ONLINE/local.tar /content/"
      ],
      "metadata": {
        "id": "nQT8ZvFyYoQ_"
      },
      "execution_count": 2,
      "outputs": []
    },
    {
      "cell_type": "code",
      "source": [
        "!tar -xvf /content/local.tar"
      ],
      "metadata": {
        "id": "idMG8WGZM1kC"
      },
      "execution_count": null,
      "outputs": []
    },
    {
      "cell_type": "code",
      "source": [
        "!cp -r /content/usr/local/gromacs/ /usr/local/"
      ],
      "metadata": {
        "id": "GnCNPL-SM1mn"
      },
      "execution_count": 4,
      "outputs": []
    },
    {
      "cell_type": "code",
      "source": [
        "!/usr/local/gromacs/bin/gmx -version"
      ],
      "metadata": {
        "colab": {
          "base_uri": "https://localhost:8080/"
        },
        "id": "fDRIFBoqM1pZ",
        "outputId": "1d810651-6143-4407-f348-7a32cacd9f15"
      },
      "execution_count": 5,
      "outputs": [
        {
          "output_type": "stream",
          "name": "stdout",
          "text": [
            "                         :-) GROMACS - gmx, 2022.4 (-:\n",
            "\n",
            "Executable:   /usr/local/gromacs/bin/gmx\n",
            "Data prefix:  /usr/local/gromacs\n",
            "Working dir:  /content\n",
            "Command line:\n",
            "  gmx -version\n",
            "\n",
            "GROMACS version:    2022.4\n",
            "Precision:          mixed\n",
            "Memory model:       64 bit\n",
            "MPI library:        thread_mpi\n",
            "OpenMP support:     enabled (GMX_OPENMP_MAX_THREADS = 128)\n",
            "GPU support:        CUDA\n",
            "SIMD instructions:  AVX2_256\n",
            "CPU FFT library:    fftw-3.3.8-sse2-avx-avx2-avx2_128\n",
            "GPU FFT library:    cuFFT\n",
            "RDTSCP usage:       enabled\n",
            "TNG support:        enabled\n",
            "Hwloc support:      disabled\n",
            "Tracing support:    disabled\n",
            "C compiler:         /usr/bin/cc GNU 11.4.0\n",
            "C compiler flags:   -mavx2 -mfma -Wno-missing-field-initializers -fexcess-precision=fast -funroll-all-loops -O3 -DNDEBUG\n",
            "C++ compiler:       /usr/bin/c++ GNU 11.4.0\n",
            "C++ compiler flags: -mavx2 -mfma -Wno-missing-field-initializers -fexcess-precision=fast -funroll-all-loops SHELL:-fopenmp -O3 -DNDEBUG\n",
            "CUDA compiler:      /usr/local/cuda-12.2/bin/nvcc nvcc: NVIDIA (R) Cuda compiler driver;Copyright (c) 2005-2023 NVIDIA Corporation;Built on Tue_Aug_15_22:02:13_PDT_2023;Cuda compilation tools, release 12.2, V12.2.140;Build cuda_12.2.r12.2/compiler.33191640_0\n",
            "CUDA compiler flags:-std=c++17;--generate-code=arch=compute_50,code=sm_50;--generate-code=arch=compute_52,code=sm_52;--generate-code=arch=compute_60,code=sm_60;--generate-code=arch=compute_61,code=sm_61;--generate-code=arch=compute_70,code=sm_70;--generate-code=arch=compute_75,code=sm_75;--generate-code=arch=compute_80,code=sm_80;--generate-code=arch=compute_86,code=sm_86;--generate-code=arch=compute_89,code=sm_89;--generate-code=arch=compute_90,code=sm_90;-Wno-deprecated-gpu-targets;--generate-code=arch=compute_53,code=sm_53;--generate-code=arch=compute_80,code=sm_80;-use_fast_math;-D_FORCE_INLINES;-mavx2 -mfma -Wno-missing-field-initializers -fexcess-precision=fast -funroll-all-loops SHELL:-fopenmp -O3 -DNDEBUG\n",
            "CUDA driver:        0.0\n",
            "CUDA runtime:       12.20\n",
            "\n"
          ]
        }
      ]
    },
    {
      "cell_type": "code",
      "source": [
        "#@title **step 02 load gromacs study object and run prep**"
      ],
      "metadata": {
        "id": "bi_3ou7AX_Jc"
      },
      "execution_count": null,
      "outputs": []
    },
    {
      "cell_type": "code",
      "source": [
        "!cp -r /content/drive/MyDrive/GROMACS-ONLINE/prep00/ /content/"
      ],
      "metadata": {
        "id": "4PVkHPyBZzue"
      },
      "execution_count": 6,
      "outputs": []
    },
    {
      "cell_type": "code",
      "source": [
        "import os\n",
        "# 更改当前工作目录到/content/content/gromacs-2022.4/build/\n",
        "os.chdir('/content/prep00/prep')"
      ],
      "metadata": {
        "id": "X9X5LUPTemNp"
      },
      "execution_count": null,
      "outputs": []
    },
    {
      "cell_type": "code",
      "source": [
        "#prep\n",
        "!bash run_prep.sh"
      ],
      "metadata": {
        "id": "SEZ2XR5qM1r1"
      },
      "execution_count": null,
      "outputs": []
    }
  ],
  "metadata": {
    "accelerator": "GPU",
    "colab": {
      "provenance": [],
      "include_colab_link": true
    },
    "kernelspec": {
      "display_name": "Python 3",
      "name": "python3"
    },
    "language_info": {
      "name": "python"
    }
  },
  "nbformat": 4,
  "nbformat_minor": 0
}